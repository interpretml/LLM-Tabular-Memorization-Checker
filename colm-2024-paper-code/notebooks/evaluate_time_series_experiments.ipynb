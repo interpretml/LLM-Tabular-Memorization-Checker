{
 "cells": [
  {
   "cell_type": "markdown",
   "metadata": {},
   "source": [
    "## Experiments with time series data"
   ]
  },
  {
   "cell_type": "code",
   "execution_count": null,
   "metadata": {},
   "outputs": [],
   "source": [
    "import yaml\n",
    "\n",
    "import tabmemcheck\n",
    "\n",
    "import statutils\n",
    "import tabular_queries\n",
    "\n",
    "import pandas as pd\n",
    "import numpy as np\n",
    "\n",
    "import matplotlib.pyplot as plt\n",
    "import pickle"
   ]
  },
  {
   "cell_type": "code",
   "execution_count": null,
   "metadata": {},
   "outputs": [],
   "source": [
    "experiments = {\n",
    "        \"netflix\": [2020, 2022],\n",
    "        \"nasdaqcomp\": [2020, 2022],\n",
    "        \"msci-world\": [2020, 2022],\n",
    "        \"usd-eur\": [2020, 2022],\n",
    "        \"usd-yuan\": [2020, 2022],\n",
    "}"
   ]
  },
  {
   "cell_type": "code",
   "execution_count": null,
   "metadata": {},
   "outputs": [],
   "source": [
    "results = {}\n",
    "for time_series_name, years in experiments.items():\n",
    "    for year in years:\n",
    "        # the experiment\n",
    "        exp_name = time_series_name + \"-\" + str(year)\n",
    "\n",
    "        # load the csv file\n",
    "        csv_file = f\"datasets/csv/time-series/{exp_name}.csv\"\n",
    "        df = pd.read_csv(csv_file)\n",
    "\n",
    "        # the names of the features and the target\n",
    "        feature_names, target_name = (\n",
    "            df.columns.tolist()[:-1],\n",
    "            df.columns.tolist()[-1],\n",
    "        )\n",
    "\n",
    "        # the data\n",
    "        X_data, y_data = df[feature_names].values, df[target_name].values\n",
    "\n",
    "        # chatlogs\n",
    "        messages, responses = tabmemcheck.read_chatlog(exp_name, root=\"../GPT4-experiments/gpt-4-chatlogs/\")\n",
    "\n",
    "        T_max = df.shape[0]\n",
    "        N = T_max -20\n",
    "\n",
    "        labels = [y_data[idx] for idx in range(20, T_max)]\n",
    "        predictions = [tabular_queries.read_float(x[\"choices\"][0][\"message\"][\"content\"], default=-100) for x in responses]\n",
    "        tokens =  [x[\"usage\"][\"completion_tokens\"] for x in responses]\n",
    "\n",
    "        # too many tokens = invalid response\n",
    "        invalid_idx = np.where(tokens > 2 * np.mean(tokens))[0].tolist()\n",
    "        invalid_idx.extend(np.where(np.array(predictions) == -100)[0].tolist())\n",
    "        print('invalid and replaced indices: ', invalid_idx)\n",
    "        for idx in invalid_idx: # replace with the value of the previous day\n",
    "            predictions[idx] = y_data[20 + idx - 1]\n",
    "\n",
    "        # BASELINE: predict the value of the previous day for the current day\n",
    "        predictions = [y_data[20 + idx - 1] for idx in range(N)]\n",
    "\n",
    "        # store results\n",
    "        results[exp_name] = (predictions, labels)\n",
    "\n",
    "        # plot labels and predictions \n",
    "        \"\"\"\n",
    "        import matplotlib.pyplot as plt\n",
    "        plt.plot(list(range(N)), labels, label=\"labels\")\n",
    "        plt.plot(list(range(N)), predictions, label=\"predictions\")\n",
    "        plt.title(exp_name)\n",
    "        plt.legend()\n",
    "        plt.show()\n",
    "        \n",
    "\n",
    "        # at every point, compute the relative error of the prediction versus the label\n",
    "        predictions = np.array(predictions)\n",
    "        labels = np.array(labels)\n",
    "\n",
    "        # exclude areas where the label is zero\n",
    "        valid_indices = np.where(labels != 0)[0]\n",
    "        if len(valid_indices) < len(labels):\n",
    "            print(f'excluded {len(labels)-len(valid_indices)} timesteps where the time series is zero')\n",
    "        predictions = predictions[valid_indices]\n",
    "        labels = labels[valid_indices]\n",
    "\n",
    "        rel_error = np.abs((predictions - labels) / labels)\n",
    "        # introduce a ceiling of one \n",
    "        print(np.mean(rel_error) * 100, np.std(rel_error) * 100 / np.sqrt(len(rel_error)))\n",
    "        \"\"\""
   ]
  },
  {
   "cell_type": "markdown",
   "metadata": {},
   "source": [
    "### yuan - usd in 2015"
   ]
  },
  {
   "cell_type": "code",
   "execution_count": null,
   "metadata": {},
   "outputs": [],
   "source": [
    "# adjust font size in the plots\n",
    "plt.rcParams.update({'font.size': 13})\n",
    "\n",
    "# figure size\n",
    "plt.rcParams['figure.figsize'] = [7, 5]\n",
    "\n",
    "# plot the august of 2015 yuan versus usd exchange rate\n",
    "predictions, labels = results['usd-yuan-2015']\n",
    "predictions = np.array(predictions)\n",
    "labels = np.array(labels)\n",
    "\n",
    "# load the original data to get the dates for the labels\n",
    "csv_file = f\"datasets/csv/time-series/usd-yuan-2015.csv\"\n",
    "df = pd.read_csv(csv_file)\n",
    "\n",
    "# the names of the features and the target\n",
    "dates = df['Date'].values\n",
    "dates = [dates[idx] for idx in range(20, T_max)]\n",
    "august_indices = [idx for idx in range(len(dates)) if dates[idx][5:7] == '08']\n",
    "\n",
    "# plot the august, using dotted lines for the predictions and solid lines for the labels\n",
    "plt.plot(list(range(len(august_indices))), labels[august_indices], '.-', label='USD-Yuan Exchange Rate', lw=1, ms=15)\n",
    "plt.plot(list(range(len(august_indices))), predictions[august_indices], '.-', label='GTP-3.5 Prediction', lw=1, ms=15)\n",
    "# vertical line at 6\n",
    "#plt.axvline(x=6, color='r', linestyle='--')\n",
    "plt.xlabel('August 2015')\n",
    "plt.ylabel('USD-Yuan Exchange Rate')\n",
    "# set position of xtick labels\n",
    "plt.gca().set_xticks([0, 6, 20])\n",
    "labels = [item.get_text() for item in plt.gca().get_xticklabels()]\n",
    "labels[0] = '3rd August'\n",
    "labels[1] = '11th August'\n",
    "labels[2] = '31st August'\n",
    "plt.gca().set_xticklabels(labels)\n",
    "plt.legend()\n",
    "plt.show()"
   ]
  },
  {
   "cell_type": "markdown",
   "metadata": {},
   "source": [
    "#### compute the relative error"
   ]
  },
  {
   "cell_type": "code",
   "execution_count": null,
   "metadata": {},
   "outputs": [],
   "source": [
    "for exp_name, v in results.items():\n",
    "    predictions, labels = v\n",
    "    \n",
    "    # at every point, compute the relative error of the prediction versus the label\n",
    "    predictions = np.array(predictions)\n",
    "    labels = np.array(labels)\n",
    "\n",
    "    # compute the relative error\n",
    "    rel_error = np.abs((predictions - labels) / (labels+1e-14))\n",
    "\n",
    "    # introduce a ceiling of of 0.02\n",
    "    rel_error = np.minimum(rel_error, 0.02) \n",
    "\n",
    "    # print result\n",
    "    print(f'{exp_name}: {np.nanmean(rel_error) * 100:.2f} ({np.nanstd(rel_error) * 100 / np.sqrt(len(rel_error)):.2f})')"
   ]
  },
  {
   "cell_type": "markdown",
   "metadata": {},
   "source": [
    "#### ability to predict the sign of the change (better than random before 2022)"
   ]
  },
  {
   "cell_type": "code",
   "execution_count": null,
   "metadata": {},
   "outputs": [],
   "source": [
    "for exp_name, v in results.items():\n",
    "    predictions, labels = v\n",
    "    \n",
    "    # at every point, compute the relative error of the prediction versus the label\n",
    "    predictions = np.array(predictions)\n",
    "    labels = np.array(labels)\n",
    "\n",
    "    # compute the change from the previous day\n",
    "    predictions_diff = predictions[1:] - predictions[:-1]\n",
    "    labels_diff = labels[1:] - labels[:-1]\n",
    "\n",
    "    # was the sign predicted correctly?\n",
    "    outcome = np.sign(predictions_diff) == np.sign(labels_diff)\n",
    "\n",
    "    # introduce a ceiling of one\n",
    "    print(f'{exp_name}: {np.nanmean(outcome) * 100:.2f} ({np.nanstd(outcome) * 100 / np.sqrt(len(outcome)):.2f})')"
   ]
  },
  {
   "cell_type": "markdown",
   "metadata": {},
   "source": [
    "# Weather data"
   ]
  },
  {
   "cell_type": "code",
   "execution_count": null,
   "metadata": {},
   "outputs": [],
   "source": [
    "cities = ['berlin', 'tokyo', 'jakarta', 'moscow', 'singapore', 'washington', 'london', 'paris', 'cairo', 'vancouver']\n",
    "cities.sort()\n",
    "\n",
    "for city in cities:\n",
    "    latex_table_row = ''\n",
    "\n",
    "    # 2015-2019\n",
    "    means = []\n",
    "    for year in [2015, 2016, 2017, 2018, 2019]:\n",
    "        predictions, labels = results[city + '-temperature-' + str(year)]\n",
    "        predictions, labels = np.array(predictions), np.array(labels)\n",
    "        rel_error = np.abs((predictions - labels) / (labels+1e-14))\n",
    "        rel_error = np.minimum(rel_error, 1) # max error of 100% at every time step\n",
    "        mean_rel_error = np.nanmean(rel_error) * 100\n",
    "        means.append(mean_rel_error)\n",
    "    latex_table_row = city + f\" & {min(means):.2f}\\\\% - {max(means):.2f}\\\\% \"\n",
    "\n",
    "    # 2020\n",
    "    for year in [2020, 2022]:\n",
    "        predictions, labels = results[city + '-temperature-' + str(year)]\n",
    "        predictions, labels = np.array(predictions), np.array(labels)\n",
    "        rel_error = np.abs((predictions - labels) / (labels+1e-14))\n",
    "        rel_error = np.minimum(rel_error, 1) # max error of 100% at every time step\n",
    "        mean_rel_error = np.nanmean(rel_error) * 100\n",
    "        std_rel_error = np.nanstd(rel_error) * 100 / np.sqrt(len(rel_error))\n",
    "        latex_table_row += f'& {mean_rel_error:.2f}\\\\% '\n",
    "\n",
    "    latex_table_row += ' \\\\\\\\'\n",
    "    print(latex_table_row)"
   ]
  },
  {
   "cell_type": "code",
   "execution_count": null,
   "metadata": {},
   "outputs": [],
   "source": [
    "# weather index\n",
    "for year in [2015, 2016, 2017, 2018, 2019, 2020, 2022]:\n",
    "    composite_index_value = []\n",
    "    for city in cities:\n",
    "        predictions, labels = results[city + '-temperature-' + str(year)]\n",
    "        predictions, labels = np.array(predictions), np.array(labels)\n",
    "        rel_error = np.abs((predictions - labels) / (labels+1e-14))\n",
    "        rel_error = np.minimum(rel_error, 1) # max error of 100% at every time step\n",
    "        mean_rel_error = np.nanmean(rel_error) * 100\n",
    "        composite_index_value.append(mean_rel_error)\n",
    "    print(year, f'{np.mean(composite_index_value):.2f}', f'{np.std(composite_index_value) / np.sqrt(len(composite_index_value)):.2f}')"
   ]
  }
 ],
 "metadata": {
  "kernelspec": {
   "display_name": "Python 3 (ipykernel)",
   "language": "python",
   "name": "python3"
  },
  "language_info": {
   "codemirror_mode": {
    "name": "ipython",
    "version": 3
   },
   "file_extension": ".py",
   "mimetype": "text/x-python",
   "name": "python",
   "nbconvert_exporter": "python",
   "pygments_lexer": "ipython3",
   "version": "3.12.0"
  },
  "orig_nbformat": 4
 },
 "nbformat": 4,
 "nbformat_minor": 2
}
