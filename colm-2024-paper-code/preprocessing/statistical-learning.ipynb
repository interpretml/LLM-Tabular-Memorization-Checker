{
 "cells": [
  {
   "cell_type": "markdown",
   "metadata": {},
   "source": [
    "# Generate the data for the statistical in-context learning experiments"
   ]
  },
  {
   "cell_type": "code",
   "execution_count": 1,
   "metadata": {},
   "outputs": [],
   "source": [
    "import numpy as np\n",
    "import pandas as pd"
   ]
  },
  {
   "cell_type": "code",
   "execution_count": 2,
   "metadata": {},
   "outputs": [
    {
     "data": {
      "text/plain": [
       "(array([[-0.14, -0.03,  0.03],\n",
       "        [ 1.13,  0.23,  0.57],\n",
       "        [-1.44, -1.35,  0.87]]),\n",
       " array([[0],\n",
       "        [1],\n",
       "        [0]]))"
      ]
     },
     "execution_count": 2,
     "metadata": {},
     "output_type": "execute_result"
    }
   ],
   "source": [
    "def linear_classification_task(dim, num_examples, seed=None):\n",
    "    \"\"\"binary classification with a linear decision boundary\"\"\"\n",
    "    rng = np.random.default_rng(seed)\n",
    "    X_data = rng.normal(0, 1, size=(num_examples, dim))\n",
    "    X_data = np.round(X_data, 2)\n",
    "    coeff = rng.normal(0, 1, size=(dim, 1))\n",
    "    y_data = (X_data @ coeff >= 0).astype(int)\n",
    "    return X_data, y_data\n",
    "\n",
    "linear_classification_task(3, 3)"
   ]
  },
  {
   "cell_type": "code",
   "execution_count": 3,
   "metadata": {},
   "outputs": [],
   "source": [
    "# we generate multiple datasets with different dimensions and coefficients\n",
    "for idx in range(1000):\n",
    "    for dim in [8]:\n",
    "        X_data, y_data = linear_classification_task(dim, 20000, seed=1000*idx + dim)  # 1500, \n",
    "\n",
    "        # put into a pandas data frame with colum names  X1, X2, ... and target name Y\n",
    "        df = pd.DataFrame(X_data, columns=[f\"X{i+1}\" for i in range(dim)])\n",
    "        df[\"Y\"] = y_data\n",
    "\n",
    "        # save as csv\n",
    "        df.to_csv(f\"../synthetic/linear-classification-d={dim}-replication={idx}.csv\", index=False)\n",
    "\n",
    "    df.head()"
   ]
  }
 ],
 "metadata": {
  "kernelspec": {
   "display_name": "mkl",
   "language": "python",
   "name": "python3"
  },
  "language_info": {
   "codemirror_mode": {
    "name": "ipython",
    "version": 3
   },
   "file_extension": ".py",
   "mimetype": "text/x-python",
   "name": "python",
   "nbconvert_exporter": "python",
   "pygments_lexer": "ipython3",
   "version": "3.12.0"
  }
 },
 "nbformat": 4,
 "nbformat_minor": 2
}
